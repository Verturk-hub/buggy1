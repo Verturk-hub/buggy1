{
 "cells": [
  {
   "cell_type": "code",
   "execution_count": 5,
   "source": [
    "import random\r\n",
    "number1 = random.randint(1, 10)\r\n",
    "number2 = random.randint(1, 10)\r\n",
    "print('What is ' + str(number1) + ' + ' + str(number2) + '?')\r\n",
    "answer = input()\r\n",
    "if int(answer) == number1 + number2:\r\n",
    "    print('Correct!')\r\n",
    "else:\r\n",
    "    print('Nope! The answer is ' + str(number1 + number2))"
   ],
   "outputs": [
    {
     "output_type": "stream",
     "name": "stdout",
     "text": [
      "What is 6 + 4?\n",
      "Nope! The answer is 10\n"
     ]
    }
   ],
   "metadata": {}
  },
  {
   "cell_type": "code",
   "execution_count": 12,
   "source": [
    "import random\r\n",
    "print('I will flip a coin 1000 times. Guess how many times it will come up heads. (Press enter to begin)')\r\n",
    "input()\r\n",
    "flips = 0\r\n",
    "heads = 0\r\n",
    "while flips < 1000:\r\n",
    "    if random.randint(0, 1) == 1:\r\n",
    "         heads = heads + 1\r\n",
    "    flips = flips + 1\r\n",
    "\r\n",
    "    if flips == 900:\r\n",
    "        print('900 flips and there have been ' + str(heads) + ' heads.')\r\n",
    "    if flips == 100:\r\n",
    "        print('At 100 tosses, heads has come up ' + str(heads) + ' times so far.')\r\n",
    "    if flips == 500:\r\n",
    "        print('Halfway done, and heads has come up ' + str(heads) +\r\n",
    "              ' times.')\r\n",
    "\r\n",
    "print()\r\n",
    "print('Out of 1000 coin tosses, heads came up ' + str(heads) + ' times!')\r\n",
    "print('Were you close?')"
   ],
   "outputs": [
    {
     "output_type": "stream",
     "name": "stdout",
     "text": [
      "I will flip a coin 1000 times. Guess how many times it will come up heads. (Press enter to begin)\n",
      "At 100 tosses, heads has come up 50 times so far.\n",
      "Halfway done, and heads has come up 247 times.\n",
      "900 flips and there have been 445 heads.\n",
      "\n",
      "Out of 1000 coin tosses, heads came up 498 times!\n",
      "Were you close?\n"
     ]
    }
   ],
   "metadata": {}
  },
  {
   "cell_type": "code",
   "execution_count": null,
   "source": [],
   "outputs": [],
   "metadata": {}
  }
 ],
 "metadata": {
  "orig_nbformat": 4,
  "language_info": {
   "name": "python",
   "version": "3.8.3",
   "mimetype": "text/x-python",
   "codemirror_mode": {
    "name": "ipython",
    "version": 3
   },
   "pygments_lexer": "ipython3",
   "nbconvert_exporter": "python",
   "file_extension": ".py"
  },
  "kernelspec": {
   "name": "python3",
   "display_name": "Python 3.8.3 64-bit ('base': conda)"
  },
  "interpreter": {
   "hash": "46182d5f787c7496ac3d2ccd0c5d8bf41bffd3ac5e5e93146af501a7f382c533"
  }
 },
 "nbformat": 4,
 "nbformat_minor": 2
}